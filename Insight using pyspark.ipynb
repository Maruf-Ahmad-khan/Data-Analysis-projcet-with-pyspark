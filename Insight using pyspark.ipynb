{
 "cells": [
  {
   "cell_type": "markdown",
   "metadata": {},
   "source": [
    "# Install Pyspark"
   ]
  },
  {
   "cell_type": "code",
   "execution_count": 1,
   "metadata": {},
   "outputs": [
    {
     "name": "stdout",
     "output_type": "stream",
     "text": [
      "Requirement already satisfied: pyspark in c:\\users\\mk744\\anaconda3\\lib\\site-packages (3.5.1)\n",
      "Requirement already satisfied: py4j==0.10.9.7 in c:\\users\\mk744\\anaconda3\\lib\\site-packages (from pyspark) (0.10.9.7)\n"
     ]
    }
   ],
   "source": [
    "! pip install pyspark"
   ]
  },
  {
   "cell_type": "markdown",
   "metadata": {},
   "source": [
    "# Start the session"
   ]
  },
  {
   "cell_type": "code",
   "execution_count": 2,
   "metadata": {},
   "outputs": [],
   "source": [
    "from pyspark.sql import SparkSession\n",
    "\n",
    "# Initialize a Spark session\n",
    "spark = SparkSession.builder \\\n",
    "    .appName(\"DataAnalysis\") \\\n",
    "    .getOrCreate()"
   ]
  },
  {
   "cell_type": "markdown",
   "metadata": {},
   "source": [
    "# Read the Data Frame"
   ]
  },
  {
   "cell_type": "code",
   "execution_count": 3,
   "metadata": {},
   "outputs": [
    {
     "name": "stdout",
     "output_type": "stream",
     "text": [
      "+--------------------+-------------+--------------------+--------------+-------+-------+--------+---------------+-------+-----------+---------+--------------+---------------+--------------------+----------+----------+---------+------+----+----+----+----+----+----+----+--------------------+--------+\n",
      "|            actionId|      afprice|             browser|          city|comment|country|currency|           date| device|       goal|goalValue|holdDateExpire|             ip|         offer_title|        os|   revenue|   status|  sub1|sub2|sub3|sub4|sub5|sub6|sub7|sub8|                  ua|expanded|\n",
      "+--------------------+-------------+--------------------+--------------+-------+-------+--------+---------------+-------+-----------+---------+--------------+---------------+--------------------+----------+----------+---------+------+----+----+----+----+----+----+----+--------------------+--------+\n",
      "|24062633UABHHB_19...|undefined SGD|          Chrome 126|     Singapore|      -|     SG|     SGD|6/27/2024 13:40|desktop|   Old User|        1|          NULL|    121.6.39.77|     Shopee SG - CPS|Windows 10|0.0319 SGD|confirmed|  tabm|   -|   -|   -|   -|   -|   -|   -|Mozilla/5.0 (Wind...|    NULL|\n",
      "|24062633UABHHA_67...|undefined SGD|          Chrome 126|     Singapore|      -|     SG|     SGD|6/27/2024 13:40|desktop|   Old User|        1|          NULL|    121.6.39.77|     Shopee SG - CPS|Windows 10| 0.437 SGD|confirmed|  tabm|   -|   -|   -|   -|   -|   -|   -|Mozilla/5.0 (Wind...|    NULL|\n",
      "|24062633UABHHB_19...|undefined SGD|          Chrome 126|     Singapore|      -|     SG|     SGD|6/27/2024 13:40|desktop|   Old User|        1|          NULL|    121.6.39.77|     Shopee SG - CPS|Windows 10|0.0319 SGD|confirmed|  tabm|   -|   -|   -|   -|   -|   -|   -|Mozilla/5.0 (Wind...|    NULL|\n",
      "|24062611V345RR_13...|undefined SGD|          Chrome 126|     Singapore|      -|     SG|     SGD|6/27/2024 13:40|desktop|   Old User|        1|          NULL| 116.88.102.147|     Shopee SG - CPS|Windows 10|0.0994 SGD|confirmed|  tabm|   -|   -|   -|   -|   -|   -|   -|Mozilla/5.0 (Wind...|    NULL|\n",
      "|2406262JVQQTQ2_17...|undefined IDR|       Opera One 109|Kuningan Timur|      -|     ID|     IDR|6/27/2024 10:32|desktop|   Old User|        1|          NULL| 103.121.136.91|Shopee Indonesia ...|Windows 10|  67.5 IDR|confirmed|  tabm|   -|   -|   -|   -|   -|   -|   -|Mozilla/5.0 (Wind...|    NULL|\n",
      "|2406261WRMPC3C_28...|undefined THB|          Chrome 126|        Phanom|      -|     TH|     THB|6/27/2024 10:31|desktop|Electronics|        1|          NULL| 203.113.115.43|     Shopee TH - CPS|Windows 10|   4.6 THB|confirmed|    np|   -|   -|   -|   -|   -|   -|   -|Mozilla/5.0 (Wind...|    NULL|\n",
      "|2406262EE4C3FE_12...|undefined THB|          Chrome 126|   Pathum Tani|      -|     TH|     THB|6/27/2024 10:31|desktop|Electronics|        1|          NULL|    1.4.169.176|     Shopee TH - CPS|Windows 10| 2.208 THB|confirmed|  tabm|   -|   -|   -|   -|   -|   -|   -|Mozilla/5.0 (Wind...|    NULL|\n",
      "|    2029.6021.752399|undefined USD|          Chrome 126|       Torhout|      -|     BE|     USD| 6/27/2024 3:04|desktop|    Default|        1|          NULL|141.135.236.XXX|Abebooks Global -...|Windows 10|0.1632 USD|confirmed|  tabm|   -|   -|   -|   -|   -|   -|   -|Mozilla/5.0 (Wind...|    NULL|\n",
      "|   12544.6021.728623|undefined USD|Edge (Chromium) f...|         Lubon|      -|     PL|     USD| 6/27/2024 2:34|desktop|   Interest|        3|          NULL|  83.23.118.XXX|          Nexo - CPA|Windows 10|0.0026 USD|confirmed|tab_ch|   -|   -|   -|   -|   -|   -|   -|Mozilla/5.0 (Wind...|    NULL|\n",
      "|   12544.6021.728642|undefined USD|          Chrome 120|      Heidenau|      -|     DE|     USD| 6/27/2024 2:34|desktop|   Interest|        3|          NULL|   83.135.9.XXX|          Nexo - CPA|Windows 10|0.0009 USD|confirmed|  tabm|   -|   -|   -|   -|   -|   -|   -|Mozilla/5.0 (Wind...|    NULL|\n",
      "|   12544.6021.725974|undefined USD|Opera Desktop Unk...|        Cullen|      -|     AR|     USD| 6/27/2024 2:33|desktop|   Interest|        3|          NULL|  45.230.67.185|          Nexo - CPA|Windows 10|0.0009 USD|confirmed|     -|   -|   -|   -|   -|   -|   -|   -|Mozilla/5.0 (Wind...|    NULL|\n",
      "|240625V2THUAJW_22...|undefined IDR|          Chrome 126| Pondok Pinang|      -|     ID|     IDR|6/26/2024 10:33|desktop|   Old User|        1|          NULL|  118.137.83.44|Shopee Indonesia ...|Windows 10| 310.5 IDR|confirmed|  tabm|   -|   -|   -|   -|   -|   -|   -|Mozilla/5.0 (Wind...|    NULL|\n",
      "|240625V2THUAJW_21...|undefined IDR|          Chrome 126| Pondok Pinang|      -|     ID|     IDR|6/26/2024 10:33|desktop|   Old User|        1|          NULL|  118.137.83.44|Shopee Indonesia ...|Windows 10|   837 IDR|confirmed|  tabm|   -|   -|   -|   -|   -|   -|   -|Mozilla/5.0 (Wind...|    NULL|\n",
      "|240625UJTW3T21_25...|undefined THB|Edge (Chromium) f...|    Lam Luk Ka|      -|     TH|     THB|6/26/2024 10:31|desktop|Electronics|        1|          NULL|  171.6.185.194|     Shopee TH - CPS|Windows 10| 0.512 THB|confirmed|tab_ch|   -|   -|   -|   -|   -|   -|   -|Mozilla/5.0 (Wind...|    NULL|\n",
      "|240625UJTW3T21_25...|undefined THB|Edge (Chromium) f...|    Lam Luk Ka|      -|     TH|     THB|6/26/2024 10:31|desktop|Electronics|        1|          NULL|  171.6.185.194|     Shopee TH - CPS|Windows 10|  1.32 THB|confirmed|tab_ch|   -|   -|   -|   -|   -|   -|   -|Mozilla/5.0 (Wind...|    NULL|\n",
      "|240625UKQV2TT5_44...|undefined THB|Edge (Chromium) f...|      Min Buri|      -|     TH|     THB|6/26/2024 10:31|desktop|Electronics|        1|          NULL|    171.6.31.63|     Shopee TH - CPS|Windows 10| 0.864 THB|confirmed|tab_ch|   -|   -|   -|   -|   -|   -|   -|Mozilla/5.0 (Wind...|    NULL|\n",
      "|   12544.6020.800442|undefined USD|Edge (Chromium) f...|         Lubon|      -|     PL|     USD| 6/26/2024 2:35|desktop|   Interest|        3|          NULL|  83.23.118.XXX|          Nexo - CPA|Windows 10|0.0026 USD|confirmed|tab_ch|   -|   -|   -|   -|   -|   -|   -|Mozilla/5.0 (Wind...|    NULL|\n",
      "|   12544.6020.799925|undefined USD|          Chrome 120|      Heidenau|      -|     DE|     USD| 6/26/2024 2:35|desktop|   Interest|        3|          NULL|   83.135.9.XXX|          Nexo - CPA|Windows 10|0.0009 USD|confirmed|  tabm|   -|   -|   -|   -|   -|   -|   -|Mozilla/5.0 (Wind...|    NULL|\n",
      "|   12544.6020.798931|undefined USD|Opera Desktop Unk...|        Cullen|      -|     AR|     USD| 6/26/2024 2:34|desktop|   Interest|        3|          NULL|  45.230.67.185|          Nexo - CPA|Windows 10|0.0009 USD|confirmed|     -|   -|   -|   -|   -|   -|   -|   -|Mozilla/5.0 (Wind...|    NULL|\n",
      "|240624TMY10NJG_23...|undefined SGD|          Chrome 122|     Singapore|      -|     SG|     SGD|6/25/2024 13:36|desktop|   Old User|        1|          NULL| 118.200.65.157|     Shopee SG - CPS|Windows 10|1.8498 SGD|confirmed|  tabm|   -|   -|   -|   -|   -|   -|   -|Mozilla/5.0 (Wind...|    NULL|\n",
      "+--------------------+-------------+--------------------+--------------+-------+-------+--------+---------------+-------+-----------+---------+--------------+---------------+--------------------+----------+----------+---------+------+----+----+----+----+----+----+----+--------------------+--------+\n",
      "only showing top 20 rows\n",
      "\n"
     ]
    }
   ],
   "source": [
    "df = spark.read.csv(r\"C:\\Users\\mk744\\Downloads\\Pokket_xo_22_to_27.csv\", header = True, inferSchema = True)\n",
    "df.show()"
   ]
  },
  {
   "cell_type": "code",
   "execution_count": 4,
   "metadata": {},
   "outputs": [
    {
     "name": "stdout",
     "output_type": "stream",
     "text": [
      "+--------------------+-------+--------+---------------+--------------------+----------+---------+------+\n",
      "|            actionId|country|currency|           date|         offer_title|   revenue|   status|  sub1|\n",
      "+--------------------+-------+--------+---------------+--------------------+----------+---------+------+\n",
      "|24062633UABHHB_19...|     SG|     SGD|6/27/2024 13:40|     Shopee SG - CPS|0.0319 SGD|confirmed|  tabm|\n",
      "|24062633UABHHA_67...|     SG|     SGD|6/27/2024 13:40|     Shopee SG - CPS| 0.437 SGD|confirmed|  tabm|\n",
      "|24062633UABHHB_19...|     SG|     SGD|6/27/2024 13:40|     Shopee SG - CPS|0.0319 SGD|confirmed|  tabm|\n",
      "|24062611V345RR_13...|     SG|     SGD|6/27/2024 13:40|     Shopee SG - CPS|0.0994 SGD|confirmed|  tabm|\n",
      "|2406262JVQQTQ2_17...|     ID|     IDR|6/27/2024 10:32|Shopee Indonesia ...|  67.5 IDR|confirmed|  tabm|\n",
      "|2406261WRMPC3C_28...|     TH|     THB|6/27/2024 10:31|     Shopee TH - CPS|   4.6 THB|confirmed|    np|\n",
      "|2406262EE4C3FE_12...|     TH|     THB|6/27/2024 10:31|     Shopee TH - CPS| 2.208 THB|confirmed|  tabm|\n",
      "|    2029.6021.752399|     BE|     USD| 6/27/2024 3:04|Abebooks Global -...|0.1632 USD|confirmed|  tabm|\n",
      "|   12544.6021.728623|     PL|     USD| 6/27/2024 2:34|          Nexo - CPA|0.0026 USD|confirmed|tab_ch|\n",
      "|   12544.6021.728642|     DE|     USD| 6/27/2024 2:34|          Nexo - CPA|0.0009 USD|confirmed|  tabm|\n",
      "|   12544.6021.725974|     AR|     USD| 6/27/2024 2:33|          Nexo - CPA|0.0009 USD|confirmed|     -|\n",
      "|240625V2THUAJW_22...|     ID|     IDR|6/26/2024 10:33|Shopee Indonesia ...| 310.5 IDR|confirmed|  tabm|\n",
      "|240625V2THUAJW_21...|     ID|     IDR|6/26/2024 10:33|Shopee Indonesia ...|   837 IDR|confirmed|  tabm|\n",
      "|240625UJTW3T21_25...|     TH|     THB|6/26/2024 10:31|     Shopee TH - CPS| 0.512 THB|confirmed|tab_ch|\n",
      "|240625UJTW3T21_25...|     TH|     THB|6/26/2024 10:31|     Shopee TH - CPS|  1.32 THB|confirmed|tab_ch|\n",
      "|240625UKQV2TT5_44...|     TH|     THB|6/26/2024 10:31|     Shopee TH - CPS| 0.864 THB|confirmed|tab_ch|\n",
      "|   12544.6020.800442|     PL|     USD| 6/26/2024 2:35|          Nexo - CPA|0.0026 USD|confirmed|tab_ch|\n",
      "|   12544.6020.799925|     DE|     USD| 6/26/2024 2:35|          Nexo - CPA|0.0009 USD|confirmed|  tabm|\n",
      "|   12544.6020.798931|     AR|     USD| 6/26/2024 2:34|          Nexo - CPA|0.0009 USD|confirmed|     -|\n",
      "|240624TMY10NJG_23...|     SG|     SGD|6/25/2024 13:36|     Shopee SG - CPS|1.8498 SGD|confirmed|  tabm|\n",
      "+--------------------+-------+--------+---------------+--------------------+----------+---------+------+\n",
      "only showing top 20 rows\n",
      "\n"
     ]
    }
   ],
   "source": [
    "Select_Relevent_Cols = df.select(\n",
    "                                   'actionId', 'country', \n",
    "                                   'currency', 'date', \n",
    "                                   'offer_title', 'revenue',\n",
    "                                   'status', 'sub1'\n",
    "                                   )\n",
    "Select_Relevent_Cols.show()"
   ]
  },
  {
   "cell_type": "code",
   "execution_count": 5,
   "metadata": {},
   "outputs": [
    {
     "name": "stdout",
     "output_type": "stream",
     "text": [
      "+----------------------------+-------+--------+---------------+----------------------+----------+---------+------+------+\n",
      "|actionId                    |country|currency|date           |offer_title           |revenue   |status   |sub1  |Payout|\n",
      "+----------------------------+-------+--------+---------------+----------------------+----------+---------+------+------+\n",
      "|24062633UABHHB_19177228382_2|SG     |SGD     |6/27/2024 13:40|Shopee SG - CPS       |0.0319 SGD|confirmed|tabm  |0.0319|\n",
      "|24062633UABHHA_6709496434_1 |SG     |SGD     |6/27/2024 13:40|Shopee SG - CPS       |0.437 SGD |confirmed|tabm  |0.437 |\n",
      "|24062633UABHHB_19177228382_1|SG     |SGD     |6/27/2024 13:40|Shopee SG - CPS       |0.0319 SGD|confirmed|tabm  |0.0319|\n",
      "|24062611V345RR_13799024876_1|SG     |SGD     |6/27/2024 13:40|Shopee SG - CPS       |0.0994 SGD|confirmed|tabm  |0.0994|\n",
      "|2406262JVQQTQ2_17292196823_1|ID     |IDR     |6/27/2024 10:32|Shopee Indonesia - CPS|67.5 IDR  |confirmed|tabm  |67.5  |\n",
      "|2406261WRMPC3C_28202075931_1|TH     |THB     |6/27/2024 10:31|Shopee TH - CPS       |4.6 THB   |confirmed|np    |4.6   |\n",
      "|2406262EE4C3FE_1237738310_1 |TH     |THB     |6/27/2024 10:31|Shopee TH - CPS       |2.208 THB |confirmed|tabm  |2.208 |\n",
      "|2029.6021.752399            |BE     |USD     |6/27/2024 3:04 |Abebooks Global - CPS |0.1632 USD|confirmed|tabm  |0.1632|\n",
      "|12544.6021.728623           |PL     |USD     |6/27/2024 2:34 |Nexo - CPA            |0.0026 USD|confirmed|tab_ch|0.0026|\n",
      "|12544.6021.728642           |DE     |USD     |6/27/2024 2:34 |Nexo - CPA            |0.0009 USD|confirmed|tabm  |0.0009|\n",
      "|12544.6021.725974           |AR     |USD     |6/27/2024 2:33 |Nexo - CPA            |0.0009 USD|confirmed|-     |0.0009|\n",
      "|240625V2THUAJW_22067147422_2|ID     |IDR     |6/26/2024 10:33|Shopee Indonesia - CPS|310.5 IDR |confirmed|tabm  |310.5 |\n",
      "|240625V2THUAJW_21692402215_1|ID     |IDR     |6/26/2024 10:33|Shopee Indonesia - CPS|837 IDR   |confirmed|tabm  |837   |\n",
      "|240625UJTW3T21_25118432283_1|TH     |THB     |6/26/2024 10:31|Shopee TH - CPS       |0.512 THB |confirmed|tab_ch|0.512 |\n",
      "|240625UJTW3T21_25466140756_2|TH     |THB     |6/26/2024 10:31|Shopee TH - CPS       |1.32 THB  |confirmed|tab_ch|1.32  |\n",
      "|240625UKQV2TT5_4438148532_1 |TH     |THB     |6/26/2024 10:31|Shopee TH - CPS       |0.864 THB |confirmed|tab_ch|0.864 |\n",
      "|12544.6020.800442           |PL     |USD     |6/26/2024 2:35 |Nexo - CPA            |0.0026 USD|confirmed|tab_ch|0.0026|\n",
      "|12544.6020.799925           |DE     |USD     |6/26/2024 2:35 |Nexo - CPA            |0.0009 USD|confirmed|tabm  |0.0009|\n",
      "|12544.6020.798931           |AR     |USD     |6/26/2024 2:34 |Nexo - CPA            |0.0009 USD|confirmed|-     |0.0009|\n",
      "|240624TMY10NJG_23160881064_2|SG     |SGD     |6/25/2024 13:36|Shopee SG - CPS       |1.8498 SGD|confirmed|tabm  |1.8498|\n",
      "+----------------------------+-------+--------+---------------+----------------------+----------+---------+------+------+\n",
      "only showing top 20 rows\n",
      "\n"
     ]
    }
   ],
   "source": [
    "\n",
    "from pyspark.sql.functions import regexp_extract, col\n",
    "Select_Relevent_Cols = Select_Relevent_Cols.withColumn(\"Payout\", regexp_extract(col(\"revenue\"), r'([0-9.]+)', 1))\n",
    "# Extract string value (currency)\n",
    "# Select_Relevent_Cols = Select_Relevent_Cols.withColumn(\"Currency\", regexp_extract(col(\"revenue\"), r'([A-Za-z]+)', 1))\n",
    "Select_Relevent_Cols.show(truncate=False)\n"
   ]
  },
  {
   "cell_type": "code",
   "execution_count": 6,
   "metadata": {},
   "outputs": [
    {
     "name": "stdout",
     "output_type": "stream",
     "text": [
      "+----------------------------+-------+--------+---------+----------------------+----------+---------+------+------+----+\n",
      "|actionId                    |country|currency|Date     |offer_title           |revenue   |status   |sub1  |Payout|Time|\n",
      "+----------------------------+-------+--------+---------+----------------------+----------+---------+------+------+----+\n",
      "|24062633UABHHB_19177228382_2|SG     |SGD     |6/27/2024|Shopee SG - CPS       |0.0319 SGD|confirmed|tabm  |0.0319|NULL|\n",
      "|24062633UABHHA_6709496434_1 |SG     |SGD     |6/27/2024|Shopee SG - CPS       |0.437 SGD |confirmed|tabm  |0.437 |NULL|\n",
      "|24062633UABHHB_19177228382_1|SG     |SGD     |6/27/2024|Shopee SG - CPS       |0.0319 SGD|confirmed|tabm  |0.0319|NULL|\n",
      "|24062611V345RR_13799024876_1|SG     |SGD     |6/27/2024|Shopee SG - CPS       |0.0994 SGD|confirmed|tabm  |0.0994|NULL|\n",
      "|2406262JVQQTQ2_17292196823_1|ID     |IDR     |6/27/2024|Shopee Indonesia - CPS|67.5 IDR  |confirmed|tabm  |67.5  |NULL|\n",
      "|2406261WRMPC3C_28202075931_1|TH     |THB     |6/27/2024|Shopee TH - CPS       |4.6 THB   |confirmed|np    |4.6   |NULL|\n",
      "|2406262EE4C3FE_1237738310_1 |TH     |THB     |6/27/2024|Shopee TH - CPS       |2.208 THB |confirmed|tabm  |2.208 |NULL|\n",
      "|2029.6021.752399            |BE     |USD     |6/27/2024|Abebooks Global - CPS |0.1632 USD|confirmed|tabm  |0.1632|NULL|\n",
      "|12544.6021.728623           |PL     |USD     |6/27/2024|Nexo - CPA            |0.0026 USD|confirmed|tab_ch|0.0026|NULL|\n",
      "|12544.6021.728642           |DE     |USD     |6/27/2024|Nexo - CPA            |0.0009 USD|confirmed|tabm  |0.0009|NULL|\n",
      "|12544.6021.725974           |AR     |USD     |6/27/2024|Nexo - CPA            |0.0009 USD|confirmed|-     |0.0009|NULL|\n",
      "|240625V2THUAJW_22067147422_2|ID     |IDR     |6/26/2024|Shopee Indonesia - CPS|310.5 IDR |confirmed|tabm  |310.5 |NULL|\n",
      "|240625V2THUAJW_21692402215_1|ID     |IDR     |6/26/2024|Shopee Indonesia - CPS|837 IDR   |confirmed|tabm  |837   |NULL|\n",
      "|240625UJTW3T21_25118432283_1|TH     |THB     |6/26/2024|Shopee TH - CPS       |0.512 THB |confirmed|tab_ch|0.512 |NULL|\n",
      "|240625UJTW3T21_25466140756_2|TH     |THB     |6/26/2024|Shopee TH - CPS       |1.32 THB  |confirmed|tab_ch|1.32  |NULL|\n",
      "|240625UKQV2TT5_4438148532_1 |TH     |THB     |6/26/2024|Shopee TH - CPS       |0.864 THB |confirmed|tab_ch|0.864 |NULL|\n",
      "|12544.6020.800442           |PL     |USD     |6/26/2024|Nexo - CPA            |0.0026 USD|confirmed|tab_ch|0.0026|NULL|\n",
      "|12544.6020.799925           |DE     |USD     |6/26/2024|Nexo - CPA            |0.0009 USD|confirmed|tabm  |0.0009|NULL|\n",
      "|12544.6020.798931           |AR     |USD     |6/26/2024|Nexo - CPA            |0.0009 USD|confirmed|-     |0.0009|NULL|\n",
      "|240624TMY10NJG_23160881064_2|SG     |SGD     |6/25/2024|Shopee SG - CPS       |1.8498 SGD|confirmed|tabm  |1.8498|NULL|\n",
      "+----------------------------+-------+--------+---------+----------------------+----------+---------+------+------+----+\n",
      "only showing top 20 rows\n",
      "\n"
     ]
    }
   ],
   "source": [
    "from pyspark.sql.functions import split, col\n",
    "Select_Relevent_Cols = Select_Relevent_Cols.withColumn(\"Date\", split(col(\"date\"), ' ')[0])\n",
    "Select_Relevent_Cols = Select_Relevent_Cols.withColumn(\"Time\", split(col(\"date\"), ' ')[1])\n",
    "Select_Relevent_Cols.show(truncate=False)"
   ]
  },
  {
   "cell_type": "code",
   "execution_count": 7,
   "metadata": {},
   "outputs": [
    {
     "name": "stdout",
     "output_type": "stream",
     "text": [
      "+--------------------+-------+--------+--------------------+---------+------+------+\n",
      "|            actionId|country|currency|         offer_title|   status|  sub1|Payout|\n",
      "+--------------------+-------+--------+--------------------+---------+------+------+\n",
      "|24062633UABHHB_19...|     SG|     SGD|     Shopee SG - CPS|confirmed|  tabm|0.0319|\n",
      "|24062633UABHHA_67...|     SG|     SGD|     Shopee SG - CPS|confirmed|  tabm| 0.437|\n",
      "|24062633UABHHB_19...|     SG|     SGD|     Shopee SG - CPS|confirmed|  tabm|0.0319|\n",
      "|24062611V345RR_13...|     SG|     SGD|     Shopee SG - CPS|confirmed|  tabm|0.0994|\n",
      "|2406262JVQQTQ2_17...|     ID|     IDR|Shopee Indonesia ...|confirmed|  tabm|  67.5|\n",
      "|2406261WRMPC3C_28...|     TH|     THB|     Shopee TH - CPS|confirmed|    np|   4.6|\n",
      "|2406262EE4C3FE_12...|     TH|     THB|     Shopee TH - CPS|confirmed|  tabm| 2.208|\n",
      "|    2029.6021.752399|     BE|     USD|Abebooks Global -...|confirmed|  tabm|0.1632|\n",
      "|   12544.6021.728623|     PL|     USD|          Nexo - CPA|confirmed|tab_ch|0.0026|\n",
      "|   12544.6021.728642|     DE|     USD|          Nexo - CPA|confirmed|  tabm|0.0009|\n",
      "|   12544.6021.725974|     AR|     USD|          Nexo - CPA|confirmed|     -|0.0009|\n",
      "|240625V2THUAJW_22...|     ID|     IDR|Shopee Indonesia ...|confirmed|  tabm| 310.5|\n",
      "|240625V2THUAJW_21...|     ID|     IDR|Shopee Indonesia ...|confirmed|  tabm|   837|\n",
      "|240625UJTW3T21_25...|     TH|     THB|     Shopee TH - CPS|confirmed|tab_ch| 0.512|\n",
      "|240625UJTW3T21_25...|     TH|     THB|     Shopee TH - CPS|confirmed|tab_ch|  1.32|\n",
      "|240625UKQV2TT5_44...|     TH|     THB|     Shopee TH - CPS|confirmed|tab_ch| 0.864|\n",
      "|   12544.6020.800442|     PL|     USD|          Nexo - CPA|confirmed|tab_ch|0.0026|\n",
      "|   12544.6020.799925|     DE|     USD|          Nexo - CPA|confirmed|  tabm|0.0009|\n",
      "|   12544.6020.798931|     AR|     USD|          Nexo - CPA|confirmed|     -|0.0009|\n",
      "|240624TMY10NJG_23...|     SG|     SGD|     Shopee SG - CPS|confirmed|  tabm|1.8498|\n",
      "+--------------------+-------+--------+--------------------+---------+------+------+\n",
      "only showing top 20 rows\n",
      "\n"
     ]
    }
   ],
   "source": [
    "# Drop the date and revenue columns\n",
    "Select_Relevent_Cols.drop(\"date\", \"revenue\", \"Time\").show()\n"
   ]
  },
  {
   "cell_type": "code",
   "execution_count": 8,
   "metadata": {},
   "outputs": [
    {
     "name": "stdout",
     "output_type": "stream",
     "text": [
      "+--------+-----+\n",
      "|currency|count|\n",
      "+--------+-----+\n",
      "|IDR     |9    |\n",
      "|THB     |16   |\n",
      "|USD     |38   |\n",
      "|SGD     |37   |\n",
      "+--------+-----+\n",
      "\n"
     ]
    }
   ],
   "source": [
    "Currency_Counts = Select_Relevent_Cols.groupBy(\"currency\").count().show(truncate = False)\n",
    "Currency_Counts"
   ]
  },
  {
   "cell_type": "markdown",
   "metadata": {},
   "source": [
    "# Currency Count on Graph"
   ]
  },
  {
   "cell_type": "code",
   "execution_count": 9,
   "metadata": {},
   "outputs": [
    {
     "data": {
      "image/png": "[encoded data removed]",
      "text/plain": [
       "<Figure size 720x432 with 1 Axes>"
      ]
     },
     "metadata": {
      "needs_background": "light"
     },
     "output_type": "display_data"
    }
   ],
   "source": [
    "import pandas as pd\n",
    "import seaborn as sns\n",
    "import seaborn as sns\n",
    "import matplotlib.pyplot as plt\n",
    "Currency_Counts_pd = df.toPandas()\n",
    "plt.figure(figsize=(10, 6))\n",
    "sns.countplot(data=Currency_Counts_pd, x='currency', order=Currency_Counts_pd['currency'].value_counts().index)\n",
    "plt.title('Currency Counts', fontsize = 15, weight = 'bold')\n",
    "plt.xticks(rotation=45, weight = 'bold')\n",
    "plt.yticks(weight = 'bold')\n",
    "plt.ylabel(\"currency\", weight = \"bold\", fontsize = 15)\n",
    "plt.xlabel(\"count\", weight = \"bold\", fontsize = 15)\n",
    "plt.grid(True)\n",
    "plt.tight_layout()\n",
    "plt.show()\n"
   ]
  },
  {
   "cell_type": "code",
   "execution_count": 39,
   "metadata": {},
   "outputs": [
    {
     "name": "stdout",
     "output_type": "stream",
     "text": [
      "+----------------------+-----+\n",
      "|offer_title           |count|\n",
      "+----------------------+-----+\n",
      "|Abebooks Global - CPS |1    |\n",
      "|Boost Mobile - CPA    |1    |\n",
      "|Nexo - CPA            |33   |\n",
      "|Shopee Indonesia - CPS|9    |\n",
      "|Shopee SG - CPS       |37   |\n",
      "|Shopee TH - CPS       |16   |\n",
      "|Shopify CPA           |3    |\n",
      "+----------------------+-----+\n",
      "\n"
     ]
    }
   ],
   "source": [
    "grouped_df = Select_Relevent_Cols.groupBy('offer_title').count()\n",
    "sorted_df = grouped_df.orderBy('offer_title')\n",
    "sorted_df.show(truncate=False)"
   ]
  },
  {
   "cell_type": "code",
   "execution_count": 34,
   "metadata": {},
   "outputs": [
    {
     "data": {
      "image/png": "[encoded data removed]",
      "text/plain": [
       "<Figure size 720x360 with 1 Axes>"
      ]
     },
     "metadata": {
      "needs_background": "light"
     },
     "output_type": "display_data"
    }
   ],
   "source": [
    "import pandas as pd\n",
    "import seaborn as sns\n",
    "import matplotlib.pyplot as plt\n",
    "from pyspark.sql import SparkSession\n",
    "Campaign_count = df.toPandas()\n",
    "plt.figure(figsize=(10, 5))\n",
    "sns.countplot(data=Campaign_count, x='offer_title', order=Campaign_count['offer_title'].value_counts().index)\n",
    "plt.title('Count of Offers', fontsize = 15, weight = 'bold')\n",
    "plt.xlabel('Offer Title', fontsize = 15, weight = 'bold')\n",
    "plt.ylabel('Count', fontsize = 15, weight = 'bold')\n",
    "plt.xticks(rotation=45)\n",
    "plt.grid(True)\n",
    "plt.tight_layout()\n",
    "plt.show()\n"
   ]
  },
  {
   "cell_type": "code",
   "execution_count": 10,
   "metadata": {},
   "outputs": [
    {
     "name": "stdout",
     "output_type": "stream",
     "text": [
      "+--------------+--------------------+-------+------+----------+------+------------+---------+--------------------+--------+---+\n",
      "| Stat.datetime|       Campaign_Name| Status|Amount|    Payout|Sub_Id|     Partner|Inventory|            Email_Id|Currency| ID|\n",
      "+--------------+--------------------+-------+------+----------+------+------------+---------+--------------------+--------+---+\n",
      "|6/24/2024 0:00|         Hulu CPS-US|pending|     0| 133.58672|   778|Affnet media|Flipshope|agoyal@flipshope.com|     INR|  0|\n",
      "|6/24/2024 0:00|         Hulu CPS-US|pending|     0| 133.58672|   778|Affnet media|Flipshope|agoyal@flipshope.com|     INR|  0|\n",
      "|6/24/2024 0:00|Neiman Marcus CPS...|pending|     0|       0.0|   739|Affnet media|Flipshope|agoyal@flipshope.com|     INR|  0|\n",
      "|6/24/2024 0:00|Neiman Marcus CPS...|pending|     0|       0.0|   739|Affnet media|Flipshope|agoyal@flipshope.com|     INR|  0|\n",
      "|6/24/2024 0:00|Neiman Marcus CPS...|pending|     0|391.743056|   739|Affnet media|Flipshope|agoyal@flipshope.com|     INR|  0|\n",
      "|6/24/2024 0:00|   Sam's Club CPS-US|pending|     0|       0.0|   702|Affnet media|Flipshope|agoyal@flipshope.com|     INR|  0|\n",
      "|6/24/2024 0:00|   Sam's Club CPS-US|pending|     0|       0.0|   702|Affnet media|Flipshope|agoyal@flipshope.com|     INR|  0|\n",
      "|6/24/2024 0:00|   Sam's Club CPS-US|pending|     0| 23.377676|   702|Affnet media|Flipshope|agoyal@flipshope.com|     INR|  0|\n",
      "|6/24/2024 0:00|   Sam's Club CPS-US|pending|     0| 28.721145|   702|Affnet media|Flipshope|agoyal@flipshope.com|     INR|  0|\n",
      "|6/24/2024 0:00|   Sam's Club CPS-US|pending|     0| 48.024426|   702|Affnet media|Flipshope|agoyal@flipshope.com|     INR|  0|\n",
      "|6/23/2024 0:00|         Hulu CPS-US|pending|     0| 133.58672|   778|Affnet media|Flipshope|agoyal@flipshope.com|     INR|  0|\n",
      "|6/23/2024 0:00|   Sam's Club CPS-US|pending|     0|       0.0|   702|Affnet media|Flipshope|agoyal@flipshope.com|     INR|  0|\n",
      "|6/21/2024 0:00|         Hulu CPS-US|pending|     0| 133.58672|   778|Affnet media|Flipshope|agoyal@flipshope.com|     INR|  0|\n",
      "|6/18/2024 0:00|   Sam's Club CPS-US|pending|     0|       0.0|   702|Affnet media|Flipshope|agoyal@flipshope.com|     INR|  0|\n",
      "|6/18/2024 0:00|   Sam's Club CPS-US|pending|     0|       0.0|   702|Affnet media|Flipshope|agoyal@flipshope.com|     INR|  0|\n",
      "|6/18/2024 0:00|   Sam's Club CPS-US|pending|     0|       0.0|   702|Affnet media|Flipshope|agoyal@flipshope.com|     INR|  0|\n",
      "|6/18/2024 0:00|   Sam's Club CPS-US|pending|     0|       0.0|   702|Affnet media|Flipshope|agoyal@flipshope.com|     INR|  0|\n",
      "|6/18/2024 0:00|   Sam's Club CPS-US|pending|     0|       0.0|   702|Affnet media|Flipshope|agoyal@flipshope.com|     INR|  0|\n",
      "|6/18/2024 0:00|   Sam's Club CPS-US|pending|     0|       0.0|   702|Affnet media|Flipshope|agoyal@flipshope.com|     INR|  0|\n",
      "|6/18/2024 0:00|   Sam's Club CPS-US|pending|     0|       0.0|   702|Affnet media|Flipshope|agoyal@flipshope.com|     INR|  0|\n",
      "+--------------+--------------------+-------+------+----------+------+------------+---------+--------------------+--------+---+\n",
      "only showing top 20 rows\n",
      "\n"
     ]
    }
   ],
   "source": [
    "data = spark.read.csv(r\"C:\\Users\\mk744\\Downloads\\Affnet Media FS.csv\", header=True, inferSchema=True)\n",
    "data.show()"
   ]
  },
  {
   "cell_type": "markdown",
   "metadata": {},
   "source": [
    "# Print Schema"
   ]
  },
  {
   "cell_type": "code",
   "execution_count": 11,
   "metadata": {},
   "outputs": [
    {
     "name": "stdout",
     "output_type": "stream",
     "text": [
      "root\n",
      " |-- actionId: string (nullable = true)\n",
      " |-- afprice: string (nullable = true)\n",
      " |-- browser: string (nullable = true)\n",
      " |-- city: string (nullable = true)\n",
      " |-- comment: string (nullable = true)\n",
      " |-- country: string (nullable = true)\n",
      " |-- currency: string (nullable = true)\n",
      " |-- date: string (nullable = true)\n",
      " |-- device: string (nullable = true)\n",
      " |-- goal: string (nullable = true)\n",
      " |-- goalValue: integer (nullable = true)\n",
      " |-- holdDateExpire: string (nullable = true)\n",
      " |-- ip: string (nullable = true)\n",
      " |-- offer_title: string (nullable = true)\n",
      " |-- os: string (nullable = true)\n",
      " |-- revenue: string (nullable = true)\n",
      " |-- status: string (nullable = true)\n",
      " |-- sub1: string (nullable = true)\n",
      " |-- sub2: string (nullable = true)\n",
      " |-- sub3: string (nullable = true)\n",
      " |-- sub4: string (nullable = true)\n",
      " |-- sub5: string (nullable = true)\n",
      " |-- sub6: string (nullable = true)\n",
      " |-- sub7: string (nullable = true)\n",
      " |-- sub8: string (nullable = true)\n",
      " |-- ua: string (nullable = true)\n",
      " |-- expanded: string (nullable = true)\n",
      "\n"
     ]
    }
   ],
   "source": [
    "df.printSchema()"
   ]
  },
  {
   "cell_type": "code",
   "execution_count": 12,
   "metadata": {},
   "outputs": [
    {
     "name": "stdout",
     "output_type": "stream",
     "text": [
      "root\n",
      " |-- Stat.datetime: string (nullable = true)\n",
      " |-- Campaign_Name: string (nullable = true)\n",
      " |-- Status: string (nullable = true)\n",
      " |-- Amount: integer (nullable = true)\n",
      " |-- Payout: double (nullable = true)\n",
      " |-- Sub_Id: integer (nullable = true)\n",
      " |-- Partner: string (nullable = true)\n",
      " |-- Inventory: string (nullable = true)\n",
      " |-- Email_Id: string (nullable = true)\n",
      " |-- Currency: string (nullable = true)\n",
      " |-- ID: integer (nullable = true)\n",
      "\n"
     ]
    }
   ],
   "source": [
    "data.printSchema()"
   ]
  },
  {
   "cell_type": "code",
   "execution_count": 13,
   "metadata": {},
   "outputs": [
    {
     "name": "stdout",
     "output_type": "stream",
     "text": [
      "+--------------------+--------------------+------+----------+--------+\n",
      "|       Campaign_Name|            Email_Id|Amount|    Payout|Currency|\n",
      "+--------------------+--------------------+------+----------+--------+\n",
      "|         Hulu CPS-US|agoyal@flipshope.com|     0| 133.58672|     INR|\n",
      "|         Hulu CPS-US|agoyal@flipshope.com|     0| 133.58672|     INR|\n",
      "|Neiman Marcus CPS...|agoyal@flipshope.com|     0|       0.0|     INR|\n",
      "|Neiman Marcus CPS...|agoyal@flipshope.com|     0|       0.0|     INR|\n",
      "|Neiman Marcus CPS...|agoyal@flipshope.com|     0|391.743056|     INR|\n",
      "|   Sam's Club CPS-US|agoyal@flipshope.com|     0|       0.0|     INR|\n",
      "|   Sam's Club CPS-US|agoyal@flipshope.com|     0|       0.0|     INR|\n",
      "|   Sam's Club CPS-US|agoyal@flipshope.com|     0| 23.377676|     INR|\n",
      "|   Sam's Club CPS-US|agoyal@flipshope.com|     0| 28.721145|     INR|\n",
      "|   Sam's Club CPS-US|agoyal@flipshope.com|     0| 48.024426|     INR|\n",
      "|         Hulu CPS-US|agoyal@flipshope.com|     0| 133.58672|     INR|\n",
      "|   Sam's Club CPS-US|agoyal@flipshope.com|     0|       0.0|     INR|\n",
      "|         Hulu CPS-US|agoyal@flipshope.com|     0| 133.58672|     INR|\n",
      "|   Sam's Club CPS-US|agoyal@flipshope.com|     0|       0.0|     INR|\n",
      "|   Sam's Club CPS-US|agoyal@flipshope.com|     0|       0.0|     INR|\n",
      "|   Sam's Club CPS-US|agoyal@flipshope.com|     0|       0.0|     INR|\n",
      "|   Sam's Club CPS-US|agoyal@flipshope.com|     0|       0.0|     INR|\n",
      "|   Sam's Club CPS-US|agoyal@flipshope.com|     0|       0.0|     INR|\n",
      "|   Sam's Club CPS-US|agoyal@flipshope.com|     0|       0.0|     INR|\n",
      "|   Sam's Club CPS-US|agoyal@flipshope.com|     0|       0.0|     INR|\n",
      "+--------------------+--------------------+------+----------+--------+\n",
      "only showing top 20 rows\n",
      "\n"
     ]
    }
   ],
   "source": [
    "Relevent_Cols = data.select(\n",
    "                            \"Campaign_Name\", \"Email_Id\",\n",
    "                            \"Amount\", \"Payout\", \"Currency\"\n",
    "                           ).show()\n",
    "Relevent_Cols"
   ]
  },
  {
   "cell_type": "code",
   "execution_count": 14,
   "metadata": {},
   "outputs": [
    {
     "name": "stdout",
     "output_type": "stream",
     "text": [
      "+--------------+--------------------+-------+------+----------+------+------------+---------+--------------------+--------+---+\n",
      "| Stat.datetime|       Campaign_Name| Status|Amount|    Payout|Sub_Id|     Partner|Inventory|            Email_Id|Currency| ID|\n",
      "+--------------+--------------------+-------+------+----------+------+------------+---------+--------------------+--------+---+\n",
      "|6/24/2024 0:00|         Hulu CPS-US|pending|     0| 133.58672|   778|Affnet media|Flipshope|agoyal@flipshope.com|     INR|  0|\n",
      "|6/24/2024 0:00|         Hulu CPS-US|pending|     0| 133.58672|   778|Affnet media|Flipshope|agoyal@flipshope.com|     INR|  0|\n",
      "|6/24/2024 0:00|Neiman Marcus CPS...|pending|     0|391.743056|   739|Affnet media|Flipshope|agoyal@flipshope.com|     INR|  0|\n",
      "|6/23/2024 0:00|         Hulu CPS-US|pending|     0| 133.58672|   778|Affnet media|Flipshope|agoyal@flipshope.com|     INR|  0|\n",
      "|6/21/2024 0:00|         Hulu CPS-US|pending|     0| 133.58672|   778|Affnet media|Flipshope|agoyal@flipshope.com|     INR|  0|\n",
      "|6/15/2024 0:00|         Hulu CPS-US|pending|     0| 133.58672|   778|Affnet media|Flipshope|agoyal@flipshope.com|     INR|  0|\n",
      "+--------------+--------------------+-------+------+----------+------+------------+---------+--------------------+--------+---+\n",
      "\n"
     ]
    }
   ],
   "source": [
    "data_filter = data.filter(data[\"Payout\"] > 100)\n",
    "data_filter.show()"
   ]
  },
  {
   "cell_type": "code",
   "execution_count": 15,
   "metadata": {},
   "outputs": [
    {
     "name": "stdout",
     "output_type": "stream",
     "text": [
      "+--------------+--------------------+-------+------+----------+------+------------+---------+--------------------+--------+---+\n",
      "| Stat.datetime|       Campaign_Name| Status|Amount|    Payout|Sub_Id|     Partner|Inventory|            Email_Id|Currency| ID|\n",
      "+--------------+--------------------+-------+------+----------+------+------------+---------+--------------------+--------+---+\n",
      "|6/24/2024 0:00|         Hulu CPS-US|pending|     0| 133.58672|   778|Affnet media|Flipshope|agoyal@flipshope.com|     INR|  0|\n",
      "|6/24/2024 0:00|         Hulu CPS-US|pending|     0| 133.58672|   778|Affnet media|Flipshope|agoyal@flipshope.com|     INR|  0|\n",
      "|6/24/2024 0:00|Neiman Marcus CPS...|pending|     0|391.743056|   739|Affnet media|Flipshope|agoyal@flipshope.com|     INR|  0|\n",
      "|6/24/2024 0:00|   Sam's Club CPS-US|pending|     0| 23.377676|   702|Affnet media|Flipshope|agoyal@flipshope.com|     INR|  0|\n",
      "|6/24/2024 0:00|   Sam's Club CPS-US|pending|     0| 28.721145|   702|Affnet media|Flipshope|agoyal@flipshope.com|     INR|  0|\n",
      "|6/24/2024 0:00|   Sam's Club CPS-US|pending|     0| 48.024426|   702|Affnet media|Flipshope|agoyal@flipshope.com|     INR|  0|\n",
      "|6/23/2024 0:00|         Hulu CPS-US|pending|     0| 133.58672|   778|Affnet media|Flipshope|agoyal@flipshope.com|     INR|  0|\n",
      "|6/21/2024 0:00|         Hulu CPS-US|pending|     0| 133.58672|   778|Affnet media|Flipshope|agoyal@flipshope.com|     INR|  0|\n",
      "|6/18/2024 0:00|   Sam's Club CPS-US|pending|     0|  9.284277|   702|Affnet media|Flipshope|agoyal@flipshope.com|     INR|  0|\n",
      "|6/18/2024 0:00|   Sam's Club CPS-US|pending|     0| 16.364373|   702|Affnet media|Flipshope|agoyal@flipshope.com|     INR|  0|\n",
      "|6/18/2024 0:00|   Sam's Club CPS-US|pending|     0| 18.568554|   702|Affnet media|Flipshope|agoyal@flipshope.com|     INR|  0|\n",
      "|6/18/2024 0:00|   Sam's Club CPS-US|pending|     0| 22.709742|   702|Affnet media|Flipshope|agoyal@flipshope.com|     INR|  0|\n",
      "|6/16/2024 0:00|   Sam's Club CPS-US|pending|     0| 45.486278|   702|Affnet media|Flipshope|agoyal@flipshope.com|     INR|  0|\n",
      "|6/16/2024 0:00|   Sam's Club CPS-US|pending|     0| 54.703762|   702|Affnet media|Flipshope|agoyal@flipshope.com|     INR|  0|\n",
      "|6/15/2024 0:00|         Hulu CPS-US|pending|     0| 133.58672|   778|Affnet media|Flipshope|agoyal@flipshope.com|     INR|  0|\n",
      "+--------------+--------------------+-------+------+----------+------+------------+---------+--------------------+--------+---+\n",
      "\n"
     ]
    }
   ],
   "source": [
    "data.filter(data['Payout'] >= 5).show()\n"
   ]
  },
  {
   "cell_type": "code",
   "execution_count": 16,
   "metadata": {},
   "outputs": [
    {
     "name": "stdout",
     "output_type": "stream",
     "text": [
      "+--------------+-------------+-------+------+---------+------+------------+---------+--------------------+--------+---+\n",
      "| Stat.datetime|Campaign_Name| Status|Amount|   Payout|Sub_Id|     Partner|Inventory|            Email_Id|Currency| ID|\n",
      "+--------------+-------------+-------+------+---------+------+------------+---------+--------------------+--------+---+\n",
      "|6/24/2024 0:00|  Hulu CPS-US|pending|     0|133.58672|   778|Affnet media|Flipshope|agoyal@flipshope.com|     INR|  0|\n",
      "|6/24/2024 0:00|  Hulu CPS-US|pending|     0|133.58672|   778|Affnet media|Flipshope|agoyal@flipshope.com|     INR|  0|\n",
      "|6/23/2024 0:00|  Hulu CPS-US|pending|     0|133.58672|   778|Affnet media|Flipshope|agoyal@flipshope.com|     INR|  0|\n",
      "|6/21/2024 0:00|  Hulu CPS-US|pending|     0|133.58672|   778|Affnet media|Flipshope|agoyal@flipshope.com|     INR|  0|\n",
      "|6/15/2024 0:00|  Hulu CPS-US|pending|     0|133.58672|   778|Affnet media|Flipshope|agoyal@flipshope.com|     INR|  0|\n",
      "+--------------+-------------+-------+------+---------+------+------------+---------+--------------------+--------+---+\n",
      "\n"
     ]
    }
   ],
   "source": [
    "data.filter(data[\"Payout\"] == 133.58672).show()"
   ]
  },
  {
   "cell_type": "code",
   "execution_count": 17,
   "metadata": {},
   "outputs": [
    {
     "name": "stdout",
     "output_type": "stream",
     "text": [
      "+----------+-----+\n",
      "|    Payout|count|\n",
      "+----------+-----+\n",
      "|       0.0|   59|\n",
      "| 28.721145|    1|\n",
      "| 48.024426|    1|\n",
      "|391.743056|    1|\n",
      "| 18.568554|    1|\n",
      "| 133.58672|    5|\n",
      "| 22.709742|    1|\n",
      "| 16.364373|    1|\n",
      "|  9.284277|    1|\n",
      "| 23.377676|    1|\n",
      "| 54.703762|    1|\n",
      "| 45.486278|    1|\n",
      "+----------+-----+\n",
      "\n"
     ]
    }
   ],
   "source": [
    "data.groupBy(data[\"Payout\"]).count().show()"
   ]
  },
  {
   "cell_type": "code",
   "execution_count": 18,
   "metadata": {},
   "outputs": [
    {
     "name": "stdout",
     "output_type": "stream",
     "text": [
      "+--------------------+-----+\n",
      "|       Campaign_Name|count|\n",
      "+--------------------+-----+\n",
      "|                NULL|    1|\n",
      "|Neiman Marcus CPS...|    3|\n",
      "|         Hulu CPS-US|    6|\n",
      "|   Sam's Club CPS-US|   64|\n",
      "+--------------------+-----+\n",
      "\n"
     ]
    }
   ],
   "source": [
    "data.groupBy(data['Campaign_Name']).count().show()"
   ]
  },
  {
   "cell_type": "code",
   "execution_count": 19,
   "metadata": {},
   "outputs": [
    {
     "name": "stdout",
     "output_type": "stream",
     "text": [
      "+----------+-----------+-----------+-----------------+-------+\n",
      "|    Payout|avg(Amount)|avg(Payout)|      avg(Sub_Id)|avg(ID)|\n",
      "+----------+-----------+-----------+-----------------+-------+\n",
      "|       0.0|        0.0|        0.0|704.5862068965517|    0.0|\n",
      "| 28.721145|        0.0|  28.721145|            702.0|    0.0|\n",
      "| 48.024426|        0.0|  48.024426|            702.0|    0.0|\n",
      "|391.743056|        0.0| 391.743056|            739.0|    0.0|\n",
      "| 18.568554|        0.0|  18.568554|            702.0|    0.0|\n",
      "| 133.58672|        0.0|  133.58672|            778.0|    0.0|\n",
      "| 22.709742|        0.0|  22.709742|            702.0|    0.0|\n",
      "| 16.364373|        0.0|  16.364373|            702.0|    0.0|\n",
      "|  9.284277|        0.0|   9.284277|            702.0|    0.0|\n",
      "| 23.377676|        0.0|  23.377676|            702.0|    0.0|\n",
      "| 54.703762|        0.0|  54.703762|            702.0|    0.0|\n",
      "| 45.486278|        0.0|  45.486278|            702.0|    0.0|\n",
      "+----------+-----------+-----------+-----------------+-------+\n",
      "\n"
     ]
    }
   ],
   "source": [
    "data.groupBy(data['Payout']).mean().show()"
   ]
  },
  {
   "cell_type": "code",
   "execution_count": 20,
   "metadata": {},
   "outputs": [
    {
     "name": "stdout",
     "output_type": "stream",
     "text": [
      "+----------+-----------+-----------------+-----------+-------+\n",
      "|    Payout|sum(Amount)|      sum(Payout)|sum(Sub_Id)|sum(ID)|\n",
      "+----------+-----------+-----------------+-----------+-------+\n",
      "|       0.0|          0|              0.0|      40866|      0|\n",
      "| 28.721145|          0|        28.721145|        702|      0|\n",
      "| 48.024426|          0|        48.024426|        702|      0|\n",
      "|391.743056|          0|       391.743056|        739|      0|\n",
      "| 18.568554|          0|        18.568554|        702|      0|\n",
      "| 133.58672|          0|667.9336000000001|       3890|      0|\n",
      "| 22.709742|          0|        22.709742|        702|      0|\n",
      "| 16.364373|          0|        16.364373|        702|      0|\n",
      "|  9.284277|          0|         9.284277|        702|      0|\n",
      "| 23.377676|          0|        23.377676|        702|      0|\n",
      "| 54.703762|          0|        54.703762|        702|      0|\n",
      "| 45.486278|          0|        45.486278|        702|      0|\n",
      "+----------+-----------+-----------------+-----------+-------+\n",
      "\n"
     ]
    }
   ],
   "source": [
    "data.groupBy(data['Payout']).sum().show()"
   ]
  },
  {
   "cell_type": "code",
   "execution_count": 21,
   "metadata": {},
   "outputs": [
    {
     "name": "stdout",
     "output_type": "stream",
     "text": [
      "+--------------+--------------------+-------+------+----------+------+------------+---------+--------------------+--------+---+\n",
      "|     Date_Time|       Campaign_Name| Status|Amount|    Payout|Sub_Id|     Partner|Inventory|            Email_Id|Currency| ID|\n",
      "+--------------+--------------------+-------+------+----------+------+------------+---------+--------------------+--------+---+\n",
      "|6/24/2024 0:00|         Hulu CPS-US|pending|     0| 133.58672|   778|Affnet media|Flipshope|agoyal@flipshope.com|     INR|  0|\n",
      "|6/24/2024 0:00|         Hulu CPS-US|pending|     0| 133.58672|   778|Affnet media|Flipshope|agoyal@flipshope.com|     INR|  0|\n",
      "|6/24/2024 0:00|Neiman Marcus CPS...|pending|     0|       0.0|   739|Affnet media|Flipshope|agoyal@flipshope.com|     INR|  0|\n",
      "|6/24/2024 0:00|Neiman Marcus CPS...|pending|     0|       0.0|   739|Affnet media|Flipshope|agoyal@flipshope.com|     INR|  0|\n",
      "|6/24/2024 0:00|Neiman Marcus CPS...|pending|     0|391.743056|   739|Affnet media|Flipshope|agoyal@flipshope.com|     INR|  0|\n",
      "|6/24/2024 0:00|   Sam's Club CPS-US|pending|     0|       0.0|   702|Affnet media|Flipshope|agoyal@flipshope.com|     INR|  0|\n",
      "|6/24/2024 0:00|   Sam's Club CPS-US|pending|     0|       0.0|   702|Affnet media|Flipshope|agoyal@flipshope.com|     INR|  0|\n",
      "|6/24/2024 0:00|   Sam's Club CPS-US|pending|     0| 23.377676|   702|Affnet media|Flipshope|agoyal@flipshope.com|     INR|  0|\n",
      "|6/24/2024 0:00|   Sam's Club CPS-US|pending|     0| 28.721145|   702|Affnet media|Flipshope|agoyal@flipshope.com|     INR|  0|\n",
      "|6/24/2024 0:00|   Sam's Club CPS-US|pending|     0| 48.024426|   702|Affnet media|Flipshope|agoyal@flipshope.com|     INR|  0|\n",
      "|6/23/2024 0:00|         Hulu CPS-US|pending|     0| 133.58672|   778|Affnet media|Flipshope|agoyal@flipshope.com|     INR|  0|\n",
      "|6/23/2024 0:00|   Sam's Club CPS-US|pending|     0|       0.0|   702|Affnet media|Flipshope|agoyal@flipshope.com|     INR|  0|\n",
      "|6/21/2024 0:00|         Hulu CPS-US|pending|     0| 133.58672|   778|Affnet media|Flipshope|agoyal@flipshope.com|     INR|  0|\n",
      "|6/18/2024 0:00|   Sam's Club CPS-US|pending|     0|       0.0|   702|Affnet media|Flipshope|agoyal@flipshope.com|     INR|  0|\n",
      "|6/18/2024 0:00|   Sam's Club CPS-US|pending|     0|       0.0|   702|Affnet media|Flipshope|agoyal@flipshope.com|     INR|  0|\n",
      "|6/18/2024 0:00|   Sam's Club CPS-US|pending|     0|       0.0|   702|Affnet media|Flipshope|agoyal@flipshope.com|     INR|  0|\n",
      "|6/18/2024 0:00|   Sam's Club CPS-US|pending|     0|       0.0|   702|Affnet media|Flipshope|agoyal@flipshope.com|     INR|  0|\n",
      "|6/18/2024 0:00|   Sam's Club CPS-US|pending|     0|       0.0|   702|Affnet media|Flipshope|agoyal@flipshope.com|     INR|  0|\n",
      "|6/18/2024 0:00|   Sam's Club CPS-US|pending|     0|       0.0|   702|Affnet media|Flipshope|agoyal@flipshope.com|     INR|  0|\n",
      "|6/18/2024 0:00|   Sam's Club CPS-US|pending|     0|       0.0|   702|Affnet media|Flipshope|agoyal@flipshope.com|     INR|  0|\n",
      "+--------------+--------------------+-------+------+----------+------+------------+---------+--------------------+--------+---+\n",
      "only showing top 20 rows\n",
      "\n"
     ]
    }
   ],
   "source": [
    "Rename_Cols = data.withColumnRenamed(\"Stat.datetime\", \"Date_Time\")\n",
    "Rename_Cols.show()"
   ]
  },
  {
   "cell_type": "code",
   "execution_count": 22,
   "metadata": {},
   "outputs": [
    {
     "name": "stdout",
     "output_type": "stream",
     "text": [
      "+--------------+---------------------+-------+------+----------+------+------------+---------+--------------------+--------+---+---------+----+\n",
      "|Date_Time     |Campaign_Name        |Status |Amount|Payout    |Sub_Id|Partner     |Inventory|Email_Id            |Currency|ID |Date     |Time|\n",
      "+--------------+---------------------+-------+------+----------+------+------------+---------+--------------------+--------+---+---------+----+\n",
      "|6/24/2024 0:00|Hulu CPS-US          |pending|0     |133.58672 |778   |Affnet media|Flipshope|agoyal@flipshope.com|INR     |0  |6/24/2024|0:00|\n",
      "|6/24/2024 0:00|Hulu CPS-US          |pending|0     |133.58672 |778   |Affnet media|Flipshope|agoyal@flipshope.com|INR     |0  |6/24/2024|0:00|\n",
      "|6/24/2024 0:00|Neiman Marcus CPS- US|pending|0     |0.0       |739   |Affnet media|Flipshope|agoyal@flipshope.com|INR     |0  |6/24/2024|0:00|\n",
      "|6/24/2024 0:00|Neiman Marcus CPS- US|pending|0     |0.0       |739   |Affnet media|Flipshope|agoyal@flipshope.com|INR     |0  |6/24/2024|0:00|\n",
      "|6/24/2024 0:00|Neiman Marcus CPS- US|pending|0     |391.743056|739   |Affnet media|Flipshope|agoyal@flipshope.com|INR     |0  |6/24/2024|0:00|\n",
      "|6/24/2024 0:00|Sam's Club CPS-US    |pending|0     |0.0       |702   |Affnet media|Flipshope|agoyal@flipshope.com|INR     |0  |6/24/2024|0:00|\n",
      "|6/24/2024 0:00|Sam's Club CPS-US    |pending|0     |0.0       |702   |Affnet media|Flipshope|agoyal@flipshope.com|INR     |0  |6/24/2024|0:00|\n",
      "|6/24/2024 0:00|Sam's Club CPS-US    |pending|0     |23.377676 |702   |Affnet media|Flipshope|agoyal@flipshope.com|INR     |0  |6/24/2024|0:00|\n",
      "|6/24/2024 0:00|Sam's Club CPS-US    |pending|0     |28.721145 |702   |Affnet media|Flipshope|agoyal@flipshope.com|INR     |0  |6/24/2024|0:00|\n",
      "|6/24/2024 0:00|Sam's Club CPS-US    |pending|0     |48.024426 |702   |Affnet media|Flipshope|agoyal@flipshope.com|INR     |0  |6/24/2024|0:00|\n",
      "|6/23/2024 0:00|Hulu CPS-US          |pending|0     |133.58672 |778   |Affnet media|Flipshope|agoyal@flipshope.com|INR     |0  |6/23/2024|0:00|\n",
      "|6/23/2024 0:00|Sam's Club CPS-US    |pending|0     |0.0       |702   |Affnet media|Flipshope|agoyal@flipshope.com|INR     |0  |6/23/2024|0:00|\n",
      "|6/21/2024 0:00|Hulu CPS-US          |pending|0     |133.58672 |778   |Affnet media|Flipshope|agoyal@flipshope.com|INR     |0  |6/21/2024|0:00|\n",
      "|6/18/2024 0:00|Sam's Club CPS-US    |pending|0     |0.0       |702   |Affnet media|Flipshope|agoyal@flipshope.com|INR     |0  |6/18/2024|0:00|\n",
      "|6/18/2024 0:00|Sam's Club CPS-US    |pending|0     |0.0       |702   |Affnet media|Flipshope|agoyal@flipshope.com|INR     |0  |6/18/2024|0:00|\n",
      "|6/18/2024 0:00|Sam's Club CPS-US    |pending|0     |0.0       |702   |Affnet media|Flipshope|agoyal@flipshope.com|INR     |0  |6/18/2024|0:00|\n",
      "|6/18/2024 0:00|Sam's Club CPS-US    |pending|0     |0.0       |702   |Affnet media|Flipshope|agoyal@flipshope.com|INR     |0  |6/18/2024|0:00|\n",
      "|6/18/2024 0:00|Sam's Club CPS-US    |pending|0     |0.0       |702   |Affnet media|Flipshope|agoyal@flipshope.com|INR     |0  |6/18/2024|0:00|\n",
      "|6/18/2024 0:00|Sam's Club CPS-US    |pending|0     |0.0       |702   |Affnet media|Flipshope|agoyal@flipshope.com|INR     |0  |6/18/2024|0:00|\n",
      "|6/18/2024 0:00|Sam's Club CPS-US    |pending|0     |0.0       |702   |Affnet media|Flipshope|agoyal@flipshope.com|INR     |0  |6/18/2024|0:00|\n",
      "+--------------+---------------------+-------+------+----------+------+------------+---------+--------------------+--------+---+---------+----+\n",
      "only showing top 20 rows\n",
      "\n"
     ]
    }
   ],
   "source": [
    "from pyspark.sql.functions import split, col\n",
    "# Split the 'date_time' column into 'date' and 'time'\n",
    "Rename_Cols = Rename_Cols.withColumn(\"Date\", split(col(\"Date_Time\"), ' ')[0])\n",
    "Rename_Cols = Rename_Cols.withColumn(\"Time\", split(col(\"Date_Time\"), ' ')[1])\n",
    "\n",
    "# Show the resulting DataFrame\n",
    "Rename_Cols.show(truncate=False)\n"
   ]
  },
  {
   "cell_type": "code",
   "execution_count": 23,
   "metadata": {},
   "outputs": [
    {
     "name": "stdout",
     "output_type": "stream",
     "text": [
      "+--------------+-----------------+-------+------+---------+------+------------+---------+--------------------+--------+---+---------+----+\n",
      "|     Date_Time|    Campaign_Name| Status|Amount|   Payout|Sub_Id|     Partner|Inventory|            Email_Id|Currency| ID|     Date|Time|\n",
      "+--------------+-----------------+-------+------+---------+------+------------+---------+--------------------+--------+---+---------+----+\n",
      "|6/24/2024 0:00|Sam's Club CPS-US|pending|     0|48.024426|   702|Affnet media|Flipshope|agoyal@flipshope.com|     INR|  0|6/24/2024|0:00|\n",
      "|6/16/2024 0:00|Sam's Club CPS-US|pending|     0|45.486278|   702|Affnet media|Flipshope|agoyal@flipshope.com|     INR|  0|6/16/2024|0:00|\n",
      "+--------------+-----------------+-------+------+---------+------+------------+---------+--------------------+--------+---+---------+----+\n",
      "\n"
     ]
    }
   ],
   "source": [
    "# Payout is between 40 and 50\n",
    "filtered_df = Rename_Cols.filter((col(\"payout\") >= 40) & (col(\"payout\") <= 50))\n",
    "filtered_df.show()\n"
   ]
  },
  {
   "cell_type": "code",
   "execution_count": 24,
   "metadata": {},
   "outputs": [
    {
     "name": "stdout",
     "output_type": "stream",
     "text": [
      "+--------------+-----------------+-------+------+---------+------+------------+---------+--------------------+--------+---+---------+----+\n",
      "|     Date_Time|    Campaign_Name| Status|Amount|   Payout|Sub_Id|     Partner|Inventory|            Email_Id|Currency| ID|     Date|Time|\n",
      "+--------------+-----------------+-------+------+---------+------+------------+---------+--------------------+--------+---+---------+----+\n",
      "|6/16/2024 0:00|Sam's Club CPS-US|pending|     0|54.703762|   702|Affnet media|Flipshope|agoyal@flipshope.com|     INR|  0|6/16/2024|0:00|\n",
      "+--------------+-----------------+-------+------+---------+------+------------+---------+--------------------+--------+---+---------+----+\n",
      "\n"
     ]
    }
   ],
   "source": [
    "# Payout is between 50 and 100\n",
    "filtered_df_1 = Rename_Cols.filter((col(\"Payout\") >= 50 ) & (col(\"Payout\") <= 100))\n",
    "filtered_df_1.show()"
   ]
  },
  {
   "cell_type": "code",
   "execution_count": 25,
   "metadata": {},
   "outputs": [
    {
     "name": "stdout",
     "output_type": "stream",
     "text": [
      "+--------------+-------------+-------+------+---------+------+------------+---------+--------------------+--------+---+---------+----+\n",
      "|     Date_Time|Campaign_Name| Status|Amount|   Payout|Sub_Id|     Partner|Inventory|            Email_Id|Currency| ID|     Date|Time|\n",
      "+--------------+-------------+-------+------+---------+------+------------+---------+--------------------+--------+---+---------+----+\n",
      "|6/24/2024 0:00|  Hulu CPS-US|pending|     0|133.58672|   778|Affnet media|Flipshope|agoyal@flipshope.com|     INR|  0|6/24/2024|0:00|\n",
      "|6/24/2024 0:00|  Hulu CPS-US|pending|     0|133.58672|   778|Affnet media|Flipshope|agoyal@flipshope.com|     INR|  0|6/24/2024|0:00|\n",
      "|6/23/2024 0:00|  Hulu CPS-US|pending|     0|133.58672|   778|Affnet media|Flipshope|agoyal@flipshope.com|     INR|  0|6/23/2024|0:00|\n",
      "|6/21/2024 0:00|  Hulu CPS-US|pending|     0|133.58672|   778|Affnet media|Flipshope|agoyal@flipshope.com|     INR|  0|6/21/2024|0:00|\n",
      "|6/15/2024 0:00|  Hulu CPS-US|pending|     0|133.58672|   778|Affnet media|Flipshope|agoyal@flipshope.com|     INR|  0|6/15/2024|0:00|\n",
      "+--------------+-------------+-------+------+---------+------+------------+---------+--------------------+--------+---+---------+----+\n",
      "\n"
     ]
    }
   ],
   "source": [
    "# Payout is between 100 and 150\n",
    "filtered_df_2 = Rename_Cols.filter((col(\"Payout\") >= 100) & (col(\"PAYOUT\") <= 150))\n",
    "filtered_df_2.show()"
   ]
  },
  {
   "cell_type": "code",
   "execution_count": 26,
   "metadata": {},
   "outputs": [
    {
     "name": "stdout",
     "output_type": "stream",
     "text": [
      "+--------------+--------------------+-------+------+----------+------+------------+---------+--------------------+--------+---+---------+----+\n",
      "|     Date_Time|       Campaign_Name| Status|Amount|    Payout|Sub_Id|     Partner|Inventory|            Email_Id|Currency| ID|     Date|Time|\n",
      "+--------------+--------------------+-------+------+----------+------+------------+---------+--------------------+--------+---+---------+----+\n",
      "|6/24/2024 0:00|Neiman Marcus CPS...|pending|     0|391.743056|   739|Affnet media|Flipshope|agoyal@flipshope.com|     INR|  0|6/24/2024|0:00|\n",
      "+--------------+--------------------+-------+------+----------+------+------------+---------+--------------------+--------+---+---------+----+\n",
      "\n"
     ]
    }
   ],
   "source": [
    "# Payout is between 150 and 500\n",
    "filtered_df_3 = Rename_Cols.filter((col(\"Payout\") >= 150) & (col(\"Payout\") <= 500))\n",
    "filtered_df_3.show()"
   ]
  },
  {
   "cell_type": "code",
   "execution_count": null,
   "metadata": {},
   "outputs": [],
   "source": []
  }
 ],
 "metadata": {
  "kernelspec": {
   "display_name": "Python 3",
   "language": "python",
   "name": "python3"
  },
  "language_info": {
   "codemirror_mode": {
    "name": "ipython",
    "version": 3
   },
   "file_extension": ".py",
   "mimetype": "text/x-python",
   "name": "python",
   "nbconvert_exporter": "python",
   "pygments_lexer": "ipython3",
   "version": "3.9.12"
  }
 },
 "nbformat": 4,
 "nbformat_minor": 2
}
